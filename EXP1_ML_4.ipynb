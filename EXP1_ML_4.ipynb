{
  "nbformat": 4,
  "nbformat_minor": 0,
  "metadata": {
    "colab": {
      "provenance": []
    },
    "kernelspec": {
      "name": "python3",
      "display_name": "Python 3"
    },
    "language_info": {
      "name": "python"
    }
  },
  "cells": [
    {
      "cell_type": "code",
      "execution_count": 1,
      "metadata": {
        "colab": {
          "base_uri": "https://localhost:8080/"
        },
        "id": "mrP4xWdcGIMc",
        "outputId": "500b675c-a7d0-4fa3-ce39-000f32ed4c16"
      },
      "outputs": [
        {
          "output_type": "stream",
          "name": "stdout",
          "text": [
            "Enter a number:45\n",
            "Enter second number:45\n",
            "Its 45\n"
          ]
        }
      ],
      "source": [
        "x=int(input(\"Enter a number:\"))\n",
        "y=int(input(\"Enter second number:\"))\n",
        "if(x==45):\n",
        "    print(\"Its 45\")\n",
        "else:\n",
        "    print(x+y)"
      ]
    },
    {
      "cell_type": "code",
      "source": [
        "x=10"
      ],
      "metadata": {
        "id": "vA100RJOGoka"
      },
      "execution_count": 3,
      "outputs": []
    },
    {
      "cell_type": "code",
      "source": [
        "type(x)"
      ],
      "metadata": {
        "colab": {
          "base_uri": "https://localhost:8080/"
        },
        "id": "W9pyNQ80G8cB",
        "outputId": "dd0a3774-03e3-4d80-a976-1447c5eaa821"
      },
      "execution_count": 4,
      "outputs": [
        {
          "output_type": "execute_result",
          "data": {
            "text/plain": [
              "int"
            ]
          },
          "metadata": {},
          "execution_count": 4
        }
      ]
    },
    {
      "cell_type": "code",
      "source": [
        "p=[10,12,14,16,18]\n",
        "p\n"
      ],
      "metadata": {
        "colab": {
          "base_uri": "https://localhost:8080/"
        },
        "id": "CjvjNMbEHKBR",
        "outputId": "5cbf2544-e505-46c8-d9e0-6395eeec38af"
      },
      "execution_count": 6,
      "outputs": [
        {
          "output_type": "execute_result",
          "data": {
            "text/plain": [
              "[10, 12, 14, 16, 18]"
            ]
          },
          "metadata": {},
          "execution_count": 6
        }
      ]
    },
    {
      "cell_type": "code",
      "source": [
        "p.insert(2,25)"
      ],
      "metadata": {
        "id": "f_-o5FcaHSUg"
      },
      "execution_count": 7,
      "outputs": []
    },
    {
      "cell_type": "code",
      "source": [
        "p\n"
      ],
      "metadata": {
        "colab": {
          "base_uri": "https://localhost:8080/"
        },
        "id": "O2zrDdY1Hfpx",
        "outputId": "a49a4b8a-612d-4fb7-ca7c-aff8f250d021"
      },
      "execution_count": 8,
      "outputs": [
        {
          "output_type": "execute_result",
          "data": {
            "text/plain": [
              "[10, 12, 25, 14, 16, 18]"
            ]
          },
          "metadata": {},
          "execution_count": 8
        }
      ]
    },
    {
      "cell_type": "code",
      "source": [
        "y=[10,2,3,4,5,6,[4,5,6,],7]"
      ],
      "metadata": {
        "id": "wmyo-ZHSHqnU"
      },
      "execution_count": 9,
      "outputs": []
    },
    {
      "cell_type": "code",
      "source": [
        "y\n"
      ],
      "metadata": {
        "colab": {
          "base_uri": "https://localhost:8080/"
        },
        "id": "TS7Xruh3H_Nh",
        "outputId": "aab8619b-ed3d-4847-86bf-f75167522e54"
      },
      "execution_count": 10,
      "outputs": [
        {
          "output_type": "execute_result",
          "data": {
            "text/plain": [
              "[10, 2, 3, 4, 5, 6, [4, 5, 6], 7]"
            ]
          },
          "metadata": {},
          "execution_count": 10
        }
      ]
    },
    {
      "cell_type": "code",
      "source": [
        "d2={12:\"hello\",(1,2,3,4):[4,5,6,7]}"
      ],
      "metadata": {
        "id": "CJR5fNvrH_9B"
      },
      "execution_count": 11,
      "outputs": []
    },
    {
      "cell_type": "code",
      "source": [
        "\n",
        "d2[12]"
      ],
      "metadata": {
        "colab": {
          "base_uri": "https://localhost:8080/",
          "height": 35
        },
        "id": "rxhKHZTIIctR",
        "outputId": "dd73c69b-3cd6-4e60-961e-c19a26ca533e"
      },
      "execution_count": 12,
      "outputs": [
        {
          "output_type": "execute_result",
          "data": {
            "text/plain": [
              "'hello'"
            ],
            "application/vnd.google.colaboratory.intrinsic+json": {
              "type": "string"
            }
          },
          "metadata": {},
          "execution_count": 12
        }
      ]
    },
    {
      "cell_type": "code",
      "source": [
        "x=input(\"enter the username:\")\n",
        "y=input(\"enter the password:\")\n",
        "if(x=='dikshant') and (y=='dikshant'):\n",
        "  print(\"successful\")\n",
        "else:\n",
        "  print(\"Try again\")"
      ],
      "metadata": {
        "colab": {
          "base_uri": "https://localhost:8080/"
        },
        "id": "D17l8XGkIiXi",
        "outputId": "3f007d61-22b9-4601-cd60-50d8daf42f83"
      },
      "execution_count": 13,
      "outputs": [
        {
          "output_type": "stream",
          "name": "stdout",
          "text": [
            "enter the username:dikshant\n",
            "enter the password:dikshant\n",
            "successful\n"
          ]
        }
      ]
    },
    {
      "cell_type": "code",
      "source": [
        "x=input(\"enter the username:\")\n",
        "if(x=='dikshant'):\n",
        "  y=input(\"enter the password:\")\n",
        "  if(y==\"dikshant\"):\n",
        "    print(\"welcome\")\n",
        "  else:\n",
        "    print(\"Try again\")\n"
      ],
      "metadata": {
        "colab": {
          "base_uri": "https://localhost:8080/"
        },
        "id": "lLsMiTG4JZbJ",
        "outputId": "7c68c044-73c3-4851-a47d-bce07889d994"
      },
      "execution_count": 14,
      "outputs": [
        {
          "output_type": "stream",
          "name": "stdout",
          "text": [
            "enter the username:dikshant\n",
            "enter the password:dikshant\n",
            "welcome\n"
          ]
        }
      ]
    },
    {
      "cell_type": "code",
      "source": [
        "for i in range(1,10,2):\n",
        "  print(i)"
      ],
      "metadata": {
        "colab": {
          "base_uri": "https://localhost:8080/"
        },
        "id": "uaitoSw7Klqw",
        "outputId": "0445fa1b-2377-4559-e46c-041dbb47590a"
      },
      "execution_count": 15,
      "outputs": [
        {
          "output_type": "stream",
          "name": "stdout",
          "text": [
            "1\n",
            "3\n",
            "5\n",
            "7\n",
            "9\n"
          ]
        }
      ]
    },
    {
      "cell_type": "code",
      "source": [
        "for i in range(10):\n",
        "  print(i)"
      ],
      "metadata": {
        "colab": {
          "base_uri": "https://localhost:8080/"
        },
        "id": "e4ZB7Aq-KzHx",
        "outputId": "30f5e668-7b1e-4731-ba7d-fc8e7ccaf86e"
      },
      "execution_count": 16,
      "outputs": [
        {
          "output_type": "stream",
          "name": "stdout",
          "text": [
            "0\n",
            "1\n",
            "2\n",
            "3\n",
            "4\n",
            "5\n",
            "6\n",
            "7\n",
            "8\n",
            "9\n"
          ]
        }
      ]
    },
    {
      "cell_type": "code",
      "source": [
        "l=['dikshant','mayank','abbas']\n",
        "for i in range(len(l)):\n",
        "  print(i)"
      ],
      "metadata": {
        "colab": {
          "base_uri": "https://localhost:8080/"
        },
        "id": "3-0n0nHKK1ay",
        "outputId": "a81473b8-ad45-4389-afbe-a30cd4209747"
      },
      "execution_count": 18,
      "outputs": [
        {
          "output_type": "stream",
          "name": "stdout",
          "text": [
            "0\n",
            "1\n",
            "2\n"
          ]
        }
      ]
    },
    {
      "cell_type": "code",
      "source": [
        "s=[]\n",
        "l=['dikshant','mayank','abbas']\n",
        "for i in l:\n",
        "  print(str(len(i)),\":\",i)\n",
        "  s.append(len(i))\n",
        "print(s)"
      ],
      "metadata": {
        "colab": {
          "base_uri": "https://localhost:8080/"
        },
        "id": "dH4NEVE-K8SC",
        "outputId": "f760a34b-6d14-4e0c-cb4d-135e2532bb8d"
      },
      "execution_count": 19,
      "outputs": [
        {
          "output_type": "stream",
          "name": "stdout",
          "text": [
            "8 : dikshant\n",
            "6 : mayank\n",
            "5 : abbas\n",
            "[8, 6, 5]\n"
          ]
        }
      ]
    },
    {
      "cell_type": "code",
      "source": [
        "def name():\n",
        "  print('dikshant')"
      ],
      "metadata": {
        "id": "xqIoYc08LjMx"
      },
      "execution_count": 20,
      "outputs": []
    },
    {
      "cell_type": "code",
      "source": [
        "name()"
      ],
      "metadata": {
        "colab": {
          "base_uri": "https://localhost:8080/"
        },
        "id": "w8VLtxoFLwWi",
        "outputId": "d09f3fd2-5a20-4fd9-eac5-72f6a8ba3bee"
      },
      "execution_count": 21,
      "outputs": [
        {
          "output_type": "stream",
          "name": "stdout",
          "text": [
            "dikshant\n"
          ]
        }
      ]
    },
    {
      "cell_type": "code",
      "source": [
        "def name(x):\n",
        "  print(\"dikshant and\",x)\n",
        "name('mayank')\n",
        "name('abbas')"
      ],
      "metadata": {
        "colab": {
          "base_uri": "https://localhost:8080/"
        },
        "id": "aaQcb1amLyCh",
        "outputId": "6fe26fc6-f69e-4470-ecf7-282a7345c335"
      },
      "execution_count": 24,
      "outputs": [
        {
          "output_type": "stream",
          "name": "stdout",
          "text": [
            "dikshant and mayank\n",
            "dikshant and abbas\n"
          ]
        }
      ]
    },
    {
      "cell_type": "code",
      "source": [
        "import numpy as np "
      ],
      "metadata": {
        "id": "aHIt0KmWMjfy"
      },
      "execution_count": 26,
      "outputs": []
    },
    {
      "cell_type": "code",
      "source": [
        "x=np.array([10,11,12,13])\n",
        "print(x)"
      ],
      "metadata": {
        "colab": {
          "base_uri": "https://localhost:8080/"
        },
        "id": "fv5IuUDDMz0i",
        "outputId": "6b6a88b1-f477-41f5-a07e-b5f932fcee46"
      },
      "execution_count": 27,
      "outputs": [
        {
          "output_type": "stream",
          "name": "stdout",
          "text": [
            "[10 11 12 13]\n"
          ]
        }
      ]
    },
    {
      "cell_type": "code",
      "source": [
        "x=np.array([[10,11,12,13],[14,15,16,17]])\n",
        "print(x)"
      ],
      "metadata": {
        "colab": {
          "base_uri": "https://localhost:8080/"
        },
        "id": "EZHXsZXfNPgy",
        "outputId": "45e1ccf7-7224-4b04-a06a-bd3e1d6e37d9"
      },
      "execution_count": 29,
      "outputs": [
        {
          "output_type": "stream",
          "name": "stdout",
          "text": [
            "[[10 11 12 13]\n",
            " [14 15 16 17]]\n"
          ]
        }
      ]
    },
    {
      "cell_type": "code",
      "source": [
        "x=np.array([[10,11,12,13],[14,15,16,17],[18,19,20,21]])\n",
        "print(x.ndim)"
      ],
      "metadata": {
        "colab": {
          "base_uri": "https://localhost:8080/"
        },
        "id": "Zq50ZFdPNrey",
        "outputId": "7b59a7a1-285b-47ee-e5d4-8a1d46a1666a"
      },
      "execution_count": 31,
      "outputs": [
        {
          "output_type": "stream",
          "name": "stdout",
          "text": [
            "2\n"
          ]
        }
      ]
    },
    {
      "cell_type": "code",
      "source": [
        "print(x)\n",
        "print(x.sum())\n",
        "#print(x.prod())\n",
        "print(x.max())\n",
        "print(x.min())\n",
        "print(x.argmax())\n",
        "print(x.argmin())"
      ],
      "metadata": {
        "colab": {
          "base_uri": "https://localhost:8080/"
        },
        "id": "tZRyp3lMN2DD",
        "outputId": "375e7b5f-98b8-4b49-cd62-100a598270bc"
      },
      "execution_count": 33,
      "outputs": [
        {
          "output_type": "stream",
          "name": "stdout",
          "text": [
            "[[10 11 12 13]\n",
            " [14 15 16 17]\n",
            " [18 19 20 21]]\n",
            "186\n",
            "21\n",
            "10\n",
            "11\n",
            "0\n"
          ]
        }
      ]
    },
    {
      "cell_type": "code",
      "source": [
        "x[0,0]"
      ],
      "metadata": {
        "colab": {
          "base_uri": "https://localhost:8080/"
        },
        "id": "T1JeT1_IO26C",
        "outputId": "d2ee32c8-db5d-42ca-edfe-31da43ba3b24"
      },
      "execution_count": 34,
      "outputs": [
        {
          "output_type": "execute_result",
          "data": {
            "text/plain": [
              "10"
            ]
          },
          "metadata": {},
          "execution_count": 34
        }
      ]
    },
    {
      "cell_type": "code",
      "source": [
        "y=x[:,-1:]\n",
        "y"
      ],
      "metadata": {
        "colab": {
          "base_uri": "https://localhost:8080/"
        },
        "id": "z0kWmI8dQE1D",
        "outputId": "f140826d-d5e2-4ef9-9663-99cee71abc58"
      },
      "execution_count": 35,
      "outputs": [
        {
          "output_type": "execute_result",
          "data": {
            "text/plain": [
              "array([[13],\n",
              "       [17],\n",
              "       [21]])"
            ]
          },
          "metadata": {},
          "execution_count": 35
        }
      ]
    },
    {
      "cell_type": "code",
      "source": [
        "x.shape"
      ],
      "metadata": {
        "colab": {
          "base_uri": "https://localhost:8080/"
        },
        "id": "GTVtfgNPQMEy",
        "outputId": "74460f33-7dab-4566-9e5e-c8675d56f5a0"
      },
      "execution_count": 36,
      "outputs": [
        {
          "output_type": "execute_result",
          "data": {
            "text/plain": [
              "(3, 4)"
            ]
          },
          "metadata": {},
          "execution_count": 36
        }
      ]
    },
    {
      "cell_type": "code",
      "source": [
        "b=x.reshape(4,3)"
      ],
      "metadata": {
        "id": "RC6vqg-VRH3S"
      },
      "execution_count": 37,
      "outputs": []
    },
    {
      "cell_type": "code",
      "source": [
        "x.transpose()"
      ],
      "metadata": {
        "colab": {
          "base_uri": "https://localhost:8080/"
        },
        "id": "dPFVbUgjRZFS",
        "outputId": "a096bcea-eb19-4c02-9ba8-a8a55927cc1b"
      },
      "execution_count": 38,
      "outputs": [
        {
          "output_type": "execute_result",
          "data": {
            "text/plain": [
              "array([[10, 14, 18],\n",
              "       [11, 15, 19],\n",
              "       [12, 16, 20],\n",
              "       [13, 17, 21]])"
            ]
          },
          "metadata": {},
          "execution_count": 38
        }
      ]
    },
    {
      "cell_type": "code",
      "source": [
        "a=0\n",
        "a=np.arange(16).reshape(4,4)"
      ],
      "metadata": {
        "id": "RRUqSmU2RjaT"
      },
      "execution_count": 40,
      "outputs": []
    },
    {
      "cell_type": "code",
      "source": [
        "a[1:3,:]"
      ],
      "metadata": {
        "colab": {
          "base_uri": "https://localhost:8080/"
        },
        "id": "2sRBygdDRttT",
        "outputId": "ea6da017-24ee-4aad-c004-38d2c7f50846"
      },
      "execution_count": 41,
      "outputs": [
        {
          "output_type": "execute_result",
          "data": {
            "text/plain": [
              "array([[ 4,  5,  6,  7],\n",
              "       [ 8,  9, 10, 11]])"
            ]
          },
          "metadata": {},
          "execution_count": 41
        }
      ]
    },
    {
      "cell_type": "code",
      "source": [
        "a[1:3,2:]"
      ],
      "metadata": {
        "colab": {
          "base_uri": "https://localhost:8080/"
        },
        "id": "lyEVFkFISEEC",
        "outputId": "3bf9592b-0148-476e-90d3-4add9c1a428d"
      },
      "execution_count": 42,
      "outputs": [
        {
          "output_type": "execute_result",
          "data": {
            "text/plain": [
              "array([[ 6,  7],\n",
              "       [10, 11]])"
            ]
          },
          "metadata": {},
          "execution_count": 42
        }
      ]
    },
    {
      "cell_type": "code",
      "source": [
        "a=np.arange(18).reshape(3,3,2)"
      ],
      "metadata": {
        "id": "kNaaT0-pSV2U"
      },
      "execution_count": 43,
      "outputs": []
    },
    {
      "cell_type": "code",
      "source": [
        "a\n"
      ],
      "metadata": {
        "colab": {
          "base_uri": "https://localhost:8080/"
        },
        "id": "Og1GoG15SbyC",
        "outputId": "a33eb526-4a7b-4a56-ecb7-ac7aa3ae676a"
      },
      "execution_count": 44,
      "outputs": [
        {
          "output_type": "execute_result",
          "data": {
            "text/plain": [
              "array([[[ 0,  1],\n",
              "        [ 2,  3],\n",
              "        [ 4,  5]],\n",
              "\n",
              "       [[ 6,  7],\n",
              "        [ 8,  9],\n",
              "        [10, 11]],\n",
              "\n",
              "       [[12, 13],\n",
              "        [14, 15],\n",
              "        [16, 17]]])"
            ]
          },
          "metadata": {},
          "execution_count": 44
        }
      ]
    },
    {
      "cell_type": "code",
      "source": [],
      "metadata": {
        "id": "YEekklt7SdSD"
      },
      "execution_count": null,
      "outputs": []
    }
  ]
}